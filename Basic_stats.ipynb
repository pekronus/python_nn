{
 "cells": [
  {
   "cell_type": "code",
   "execution_count": 4,
   "metadata": {},
   "outputs": [],
   "source": [
    "import numpy as np\n",
    "import scipy.stats as stats\n",
    "import matplotlib.pyplot as plt\n",
    "import math as m\n",
    "%matplotlib inline\n"
   ]
  },
  {
   "cell_type": "code",
   "execution_count": 62,
   "metadata": {},
   "outputs": [],
   "source": [
    "theta = 2\n",
    "def test_min_max_unif(low, high, N, trials):\n",
    "    mins = []\n",
    "    maxs = []\n",
    "    for _ in range(trials):\n",
    "        rs = np.random.uniform(low=low, high=high, size=N)\n",
    "        rs.sort()\n",
    "        #print(rs)\n",
    "        mins.append(rs[0])\n",
    "        maxs.append(rs[-1])\n",
    "    return (np.array(mins), np.array(maxs))"
   ]
  },
  {
   "cell_type": "code",
   "execution_count": 92,
   "metadata": {},
   "outputs": [
    {
     "data": {
      "text/plain": [
       "(0.08759, 0.04976)"
      ]
     },
     "execution_count": 92,
     "metadata": {},
     "output_type": "execute_result"
    }
   ],
   "source": [
    "NN = 100000\n",
    "mins, maxs = test_min_max_unif(theta, theta**2, 18, NN)\n",
    "mins.sort()\n",
    "maxs.sort()\n",
    "\n",
    "mins[mins < 2.01].size/NN, maxs[maxs > 3.9943].size/NN"
   ]
  },
  {
   "cell_type": "code",
   "execution_count": 152,
   "metadata": {},
   "outputs": [],
   "source": [
    "# pdf of x in (-1,0) = theta^2\n",
    "# pdf of x in  (0,1) = 1-theta^2\n",
    "\n",
    "def inv_cdf(theta2, U):\n",
    "    x1 = U/theta2-1\n",
    "    if (x1 <= 0):\n",
    "        return x1\n",
    "    x2 = (U-theta2)/(1-theta2)\n",
    "    return x2\n",
    "\n",
    "def make_icdf(theta2):\n",
    "    def inv_f(U):\n",
    "        return inv_cdf(theta2, U)\n",
    "    return inv_f\n",
    "    \n",
    "\n",
    "def gen_r(N, theta):\n",
    "    icdf = make_icdf(theta**2)\n",
    "    rs = np.random.uniform(low=0, high=1, size=N)\n",
    "    rs2 = map(icdf, rs)\n",
    "    return np.array(list(rs2))\n",
    "\n",
    "def run_tests(N, theta, trials):\n",
    "    mles = []\n",
    "    for _ in range(trials):\n",
    "        Xs = gen_r(N, theta)\n",
    "        a = Xs[Xs <=0].size\n",
    "        b = Xs[Xs > 0].size\n",
    "        mletheta = a/(a+b)\n",
    "        mles.append(mletheta)\n",
    "    return np.sqrt(np.array(mles))"
   ]
  },
  {
   "cell_type": "code",
   "execution_count": 165,
   "metadata": {},
   "outputs": [],
   "source": [
    "theta2 = 0.7\n",
    "N = 1000\n",
    "mles = run_tests(N, m.sqrt(theta2), 1000)\n"
   ]
  },
  {
   "cell_type": "code",
   "execution_count": 166,
   "metadata": {},
   "outputs": [
    {
     "data": {
      "text/plain": [
       "(0.8366600265340756,\n",
       " 0.836930057946722,\n",
       " 0.008548573290106715,\n",
       " 7.307810529632595e-05,\n",
       " 7.500000000000001e-05)"
      ]
     },
     "execution_count": 166,
     "metadata": {},
     "output_type": "execute_result"
    }
   ],
   "source": [
    "np.sqrt(theta2), mles.mean(), mles.std(), mles.std()**2, (1-theta2)/4/N"
   ]
  },
  {
   "cell_type": "code",
   "execution_count": 182,
   "metadata": {},
   "outputs": [
    {
     "name": "stdout",
     "output_type": "stream",
     "text": [
      "3.841458820694124\n"
     ]
    },
    {
     "data": {
      "text/plain": [
       "(0.7071067811865476,\n",
       " 0.6324555320336759,\n",
       " 0.12499999999999997,\n",
       " 4.4582472000673015,\n",
       " -0.07465124915287169,\n",
       " 0.03473312058802469)"
      ]
     },
     "execution_count": 182,
     "metadata": {},
     "output_type": "execute_result"
    }
   ],
   "source": [
    "print(stats.chi2.ppf(0.95, df=1))\n",
    "a= 40\n",
    "b= 60\n",
    "n=100\n",
    "theta0 = m.sqrt(0.5)\n",
    "tmle = m.sqrt(a/(a+b))\n",
    "avar = (1-theta0**2)/4\n",
    "Tn = n*(tmle-theta0)**2/avar\n",
    "theta0,tmle, avar, Tn, tmle-theta0, 1-stats.chi2.cdf(Tn, df=1)"
   ]
  }
 ],
 "metadata": {
  "kernelspec": {
   "display_name": "Python 3",
   "language": "python",
   "name": "python3"
  },
  "language_info": {
   "codemirror_mode": {
    "name": "ipython",
    "version": 3
   },
   "file_extension": ".py",
   "mimetype": "text/x-python",
   "name": "python",
   "nbconvert_exporter": "python",
   "pygments_lexer": "ipython3",
   "version": "3.7.2"
  }
 },
 "nbformat": 4,
 "nbformat_minor": 2
}
